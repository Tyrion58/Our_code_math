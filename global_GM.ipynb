{
 "cells": [
  {
   "cell_type": "code",
   "execution_count": 51,
   "metadata": {},
   "outputs": [],
   "source": [
    "import pandas as pd\n",
    "import numpy as np\n",
    "import math"
   ]
  },
  {
   "cell_type": "code",
   "execution_count": 52,
   "metadata": {},
   "outputs": [
    {
     "data": {
      "text/html": [
       "<div>\n",
       "<style scoped>\n",
       "    .dataframe tbody tr th:only-of-type {\n",
       "        vertical-align: middle;\n",
       "    }\n",
       "\n",
       "    .dataframe tbody tr th {\n",
       "        vertical-align: top;\n",
       "    }\n",
       "\n",
       "    .dataframe thead th {\n",
       "        text-align: right;\n",
       "    }\n",
       "</style>\n",
       "<table border=\"1\" class=\"dataframe\">\n",
       "  <thead>\n",
       "    <tr style=\"text-align: right;\">\n",
       "      <th></th>\n",
       "      <th>dt</th>\n",
       "      <th>mean_temp</th>\n",
       "    </tr>\n",
       "  </thead>\n",
       "  <tbody>\n",
       "    <tr>\n",
       "      <th>0</th>\n",
       "      <td>1900</td>\n",
       "      <td>20.571300</td>\n",
       "    </tr>\n",
       "    <tr>\n",
       "      <th>1</th>\n",
       "      <td>1901</td>\n",
       "      <td>21.928121</td>\n",
       "    </tr>\n",
       "    <tr>\n",
       "      <th>2</th>\n",
       "      <td>1902</td>\n",
       "      <td>21.360850</td>\n",
       "    </tr>\n",
       "    <tr>\n",
       "      <th>3</th>\n",
       "      <td>1903</td>\n",
       "      <td>21.650719</td>\n",
       "    </tr>\n",
       "    <tr>\n",
       "      <th>4</th>\n",
       "      <td>1904</td>\n",
       "      <td>21.196928</td>\n",
       "    </tr>\n",
       "    <tr>\n",
       "      <th>...</th>\n",
       "      <td>...</td>\n",
       "      <td>...</td>\n",
       "    </tr>\n",
       "    <tr>\n",
       "      <th>109</th>\n",
       "      <td>2009</td>\n",
       "      <td>20.373753</td>\n",
       "    </tr>\n",
       "    <tr>\n",
       "      <th>110</th>\n",
       "      <td>2010</td>\n",
       "      <td>20.390901</td>\n",
       "    </tr>\n",
       "    <tr>\n",
       "      <th>111</th>\n",
       "      <td>2011</td>\n",
       "      <td>20.387350</td>\n",
       "    </tr>\n",
       "    <tr>\n",
       "      <th>112</th>\n",
       "      <td>2012</td>\n",
       "      <td>20.834057</td>\n",
       "    </tr>\n",
       "    <tr>\n",
       "      <th>113</th>\n",
       "      <td>2013</td>\n",
       "      <td>22.115738</td>\n",
       "    </tr>\n",
       "  </tbody>\n",
       "</table>\n",
       "<p>114 rows × 2 columns</p>\n",
       "</div>"
      ],
      "text/plain": [
       "       dt  mean_temp\n",
       "0    1900  20.571300\n",
       "1    1901  21.928121\n",
       "2    1902  21.360850\n",
       "3    1903  21.650719\n",
       "4    1904  21.196928\n",
       "..    ...        ...\n",
       "109  2009  20.373753\n",
       "110  2010  20.390901\n",
       "111  2011  20.387350\n",
       "112  2012  20.834057\n",
       "113  2013  22.115738\n",
       "\n",
       "[114 rows x 2 columns]"
      ]
     },
     "execution_count": 52,
     "metadata": {},
     "output_type": "execute_result"
    }
   ],
   "source": [
    "global_data = pd.read_csv('./data/global_data.csv')\n",
    "global_data.drop('Unnamed: 0', axis=1, inplace=True)\n",
    "global_data"
   ]
  },
  {
   "cell_type": "code",
   "execution_count": 53,
   "metadata": {},
   "outputs": [
    {
     "data": {
      "text/plain": [
       "Series([], Name: mean_temp, dtype: float64)"
      ]
     },
     "execution_count": 53,
     "metadata": {},
     "output_type": "execute_result"
    }
   ],
   "source": [
    "global_data['mean_temp'][0:0]"
   ]
  },
  {
   "cell_type": "code",
   "execution_count": 54,
   "metadata": {},
   "outputs": [],
   "source": [
    "global_temp_1 = []\n",
    "global_temp = global_data['mean_temp']\n",
    "for i in range(len(global_temp)):\n",
    "    global_temp_1.append(global_temp[:i+1].sum())\n",
    "\n",
    "global_temp_1 = np.array(global_temp_1)"
   ]
  },
  {
   "cell_type": "code",
   "execution_count": 55,
   "metadata": {},
   "outputs": [
    {
     "data": {
      "text/plain": [
       "array([  20.5713    ,   42.49942093,   63.86027053,   85.5109899 ,\n",
       "        106.70791747,  128.23239334,  149.27574524,  170.02513557,\n",
       "        191.34637988,  212.33355813,  233.24730614,  254.2122129 ,\n",
       "        275.17083947,  295.94271156,  317.05291   ,  338.29618748,\n",
       "        359.46092251,  380.38576887,  401.10879301,  422.35348199,\n",
       "        443.59642283,  464.55005847,  485.61324973,  506.25638968,\n",
       "        527.00531045,  547.78273216,  568.34881509,  588.89056891,\n",
       "        609.64474014,  630.11496159,  650.58991851,  671.18019923,\n",
       "        692.03978927,  712.65553225,  733.40708054,  753.96057528,\n",
       "        774.49253483,  795.13478168,  815.47006704,  835.86731519,\n",
       "        855.84989625,  876.15890683,  896.31318664,  916.67450173,\n",
       "        937.00777251,  957.08575118,  977.59854652,  998.08829709,\n",
       "       1018.38574083, 1038.68147523, 1058.68717158, 1078.89414443,\n",
       "       1098.83979339, 1118.8453053 , 1138.77004558, 1158.64055152,\n",
       "       1178.47257509, 1198.740161  , 1219.04878913, 1239.29835583,\n",
       "       1259.20383364, 1279.21744329, 1299.24676993, 1318.98813407,\n",
       "       1338.73447664, 1358.6340718 , 1378.54412843, 1398.22992013,\n",
       "       1417.85907159, 1437.5840083 , 1457.26923333, 1476.79241484,\n",
       "       1496.58081148, 1516.70993405, 1536.50731567, 1556.06828254,\n",
       "       1575.37709186, 1595.02766655, 1614.71249863, 1634.55051908,\n",
       "       1654.01820498, 1673.78490743, 1693.543434  , 1713.69379836,\n",
       "       1733.45850412, 1753.12828387, 1772.83370528, 1792.69104339,\n",
       "       1812.50862484, 1832.4563657 , 1852.63704922, 1872.44062937,\n",
       "       1892.60692456, 1912.39338501, 1932.34689947, 1952.45512049,\n",
       "       1972.13930413, 1992.08971501, 2012.48847347, 2032.36043802,\n",
       "       2052.39202211, 2072.61075138, 2093.033935  , 2113.40281955,\n",
       "       2133.47911775, 2153.75491294, 2174.25701726, 2194.59489092,\n",
       "       2214.72539308, 2235.0991462 , 2255.49004768, 2275.87739775,\n",
       "       2296.71145468, 2318.82719286])"
      ]
     },
     "execution_count": 55,
     "metadata": {},
     "output_type": "execute_result"
    }
   ],
   "source": [
    "global_temp_1"
   ]
  },
  {
   "cell_type": "code",
   "execution_count": 56,
   "metadata": {},
   "outputs": [
    {
     "data": {
      "text/plain": [
       "0      20.571300\n",
       "1      21.928121\n",
       "2      21.360850\n",
       "3      21.650719\n",
       "4      21.196928\n",
       "         ...    \n",
       "109    20.373753\n",
       "110    20.390901\n",
       "111    20.387350\n",
       "112    20.834057\n",
       "113    22.115738\n",
       "Name: mean_temp, Length: 114, dtype: float64"
      ]
     },
     "execution_count": 56,
     "metadata": {},
     "output_type": "execute_result"
    }
   ],
   "source": [
    "global_temp"
   ]
  },
  {
   "cell_type": "code",
   "execution_count": 57,
   "metadata": {},
   "outputs": [],
   "source": [
    "sita_global = []\n",
    "for i in range(len(global_temp_1)):\n",
    "    if i+1 < len(global_temp_1):\n",
    "        sita_global.append(global_temp_1[i+1] / global_temp_1[i])\n",
    "    \n",
    "sita_global = np.array(sita_global)\n",
    "rou_global = sita_global - 1"
   ]
  },
  {
   "cell_type": "code",
   "execution_count": 58,
   "metadata": {},
   "outputs": [],
   "source": [
    "rouglobal_df = pd.DataFrame(columns=['rou'])\n",
    "rouglobal_df['rou'] = rou_global\n",
    "rou_need = rouglobal_df.loc[rouglobal_df['rou']<0.5]\n",
    "num = rou_need.shape"
   ]
  },
  {
   "cell_type": "code",
   "execution_count": 59,
   "metadata": {},
   "outputs": [
    {
     "data": {
      "text/plain": [
       "0.9823008849557522"
      ]
     },
     "execution_count": 59,
     "metadata": {},
     "output_type": "execute_result"
    }
   ],
   "source": [
    "k = num[0] / len(rouglobal_df)\n",
    "k"
   ]
  },
  {
   "cell_type": "markdown",
   "metadata": {},
   "source": [
    "**光滑比高达98.23%**， 说明此问题非常适合使用灰度预测"
   ]
  },
  {
   "cell_type": "code",
   "execution_count": 60,
   "metadata": {},
   "outputs": [],
   "source": [
    "delta = 0.5\n",
    "global_temp_z1 = []\n",
    "for i in range(len(global_temp_1)):\n",
    "    if i+1 < len(global_temp_1):\n",
    "        temp = delta*global_temp_1[i+1] + (1-delta)*global_temp_1[i]\n",
    "        global_temp_z1.append(temp)\n",
    "\n",
    "global_temp_z1 = np.array(global_temp_z1)"
   ]
  },
  {
   "cell_type": "code",
   "execution_count": 61,
   "metadata": {},
   "outputs": [],
   "source": [
    "Y = global_temp[1:].to_numpy().reshape(-1, 1)\n",
    "temp = np.ones(len(global_temp_z1)).reshape(-1, 1)\n",
    "global_temp_z1 = global_temp_z1.reshape(-1, 1)\n",
    "B = np.concatenate((-global_temp_z1, temp), axis=1)"
   ]
  },
  {
   "cell_type": "code",
   "execution_count": 62,
   "metadata": {},
   "outputs": [],
   "source": [
    "u = np.linalg.inv(np.matmul(B.T, B))\n",
    "u = np.matmul(u, B.T)\n",
    "u = np.matmul(u, Y)\n",
    "u\n",
    "a_hat = u[0][0]\n",
    "b_hat = u[1][0]"
   ]
  },
  {
   "cell_type": "code",
   "execution_count": 76,
   "metadata": {},
   "outputs": [
    {
     "data": {
      "text/plain": [
       "20.953610345287963"
      ]
     },
     "execution_count": 76,
     "metadata": {},
     "output_type": "execute_result"
    }
   ],
   "source": [
    "b_hat"
   ]
  },
  {
   "cell_type": "code",
   "execution_count": 63,
   "metadata": {},
   "outputs": [],
   "source": [
    "def predict_global_1hat(a, b, x0, m):\n",
    "    return (x0[0] - b/a)*np.exp(-a*m) + b/a\n",
    "\n",
    "def predict_global_0hat(a, b, x0, m):\n",
    "    return predict_global_1hat(a, b, x0, m+1) - predict_global_1hat(a, b, x0, m)"
   ]
  },
  {
   "cell_type": "code",
   "execution_count": 64,
   "metadata": {},
   "outputs": [
    {
     "data": {
      "text/plain": [
       "[4.567571014179075,\n",
       " 2.08422729160927,\n",
       " 3.445475477672705,\n",
       " 1.4297570279600897,\n",
       " 2.9802971228621815,\n",
       " 0.8137684326311583,\n",
       " 0.539043628013786,\n",
       " 2.208450769208951,\n",
       " 0.7035769289197531,\n",
       " 0.4068274377447659,\n",
       " 0.7015921480537408,\n",
       " 0.7235627161424473,\n",
       " 0.11684287908285897,\n",
       " 1.5389977553979202,\n",
       " 2.2067614780611406,\n",
       " 1.8949649325966649,\n",
       " 0.821933427158023,\n",
       " 0.09181510016961741,\n",
       " 2.4167893271972876,\n",
       " 2.4595795043224027,\n",
       " 1.1643420403605216,\n",
       " 1.7296151832236277,\n",
       " 0.21779745882255797,\n",
       " 0.3450488102018721,\n",
       " 0.5335722487297784,\n",
       " 0.4362237552770871,\n",
       " 0.5028136956897453,\n",
       " 0.5776263222916516,\n",
       " 0.7490047435682778,\n",
       " 0.6732505792231787,\n",
       " 0.05725935562769505,\n",
       " 1.2859695424656254,\n",
       " 0.1703739299138342,\n",
       " 0.8753394855226589,\n",
       " 0.027709582554117967,\n",
       " 0.08048081766315732,\n",
       " 0.5060670710916496,\n",
       " 0.9432020944667735,\n",
       " 0.5841502413529314,\n",
       " 2.617948928142773,\n",
       " 0.9159771792458777,\n",
       " 1.6377856402678632,\n",
       " 0.551935812700634,\n",
       " 0.6381858231825046,\n",
       " 1.8647297055867338,\n",
       " 0.34645296453333296,\n",
       " 0.28632579561826366,\n",
       " 0.6059871998293256,\n",
       " 0.5620655155379566,\n",
       " 1.9668646821721498,\n",
       " 0.8986285203891352,\n",
       " 2.1673507899370006,\n",
       " 1.8085886516185028,\n",
       " 2.16807234122828,\n",
       " 2.393579578328548,\n",
       " 2.5388408405665164,\n",
       " 0.2829713048502919,\n",
       " 0.028190216431569406,\n",
       " 0.2676984562446822,\n",
       " 1.9478230917136192,\n",
       " 1.344205213933199,\n",
       " 1.211946993632131,\n",
       " 2.634826323968954,\n",
       " 2.555516548248307,\n",
       " 1.7127121518194541,\n",
       " 1.6063296037210333,\n",
       " 2.710337359833098,\n",
       " 2.9530690317674515,\n",
       " 2.399771535333845,\n",
       " 2.5529139425440546,\n",
       " 3.3502613358837516,\n",
       " 1.9120051910672655,\n",
       " 0.1347670512236904,\n",
       " 1.759687361187185,\n",
       " 2.935927854693061,\n",
       " 4.225884627385558,\n",
       " 2.3598427872139727,\n",
       " 2.1284954902511344,\n",
       " 1.2870908964203978,\n",
       " 3.1601305397517025,\n",
       " 1.5466899289570848,\n",
       " 1.5358066776493093,\n",
       " 0.4904739743134431,\n",
       " 1.3983739406638331,\n",
       " 1.8346626897074252,\n",
       " 1.597537535412223,\n",
       " 0.767773037101494,\n",
       " 0.9173463437155962,\n",
       " 0.20664887717858016,\n",
       " 1.0016019587683975,\n",
       " 0.8310085034984607,\n",
       " 1.0341215482405368,\n",
       " 0.8131709365455017,\n",
       " 0.0829119232355059,\n",
       " 0.903275144469434,\n",
       " 1.1787537447273553,\n",
       " 0.22340659035178884,\n",
       " 2.46722892933925,\n",
       " 0.06617001713649098,\n",
       " 0.7828907513776558,\n",
       " 1.7524363682359125,\n",
       " 2.786632644226934,\n",
       " 2.5782414207902296,\n",
       " 1.209915630140452,\n",
       " 2.2328667707892342,\n",
       " 3.3624034746773,\n",
       " 2.632774149577522,\n",
       " 1.6809858155585158,\n",
       " 2.905446861413572,\n",
       " 3.037620932841956,\n",
       " 3.071232318617684,\n",
       " 5.198893241182561,\n",
       " 10.739442149959327]"
      ]
     },
     "execution_count": 64,
     "metadata": {},
     "output_type": "execute_result"
    }
   ],
   "source": [
    "global_0hat = []\n",
    "epsilon = []\n",
    "epsilon_absolute = []\n",
    "for i in range(len(global_temp)):\n",
    "    if i+1 < len(global_temp):\n",
    "        temp = predict_global_0hat(a_hat, b_hat, global_temp, i+1)\n",
    "        global_0hat.append(temp)\n",
    "        epsilon.append(global_temp[i+1] - temp)\n",
    "        epsilon_absolute.append(np.absolute(global_temp[i+1] - temp) * 100 / global_temp[i+1])\n",
    "epsilon\n",
    "epsilon_absolute"
   ]
  },
  {
   "cell_type": "code",
   "execution_count": 65,
   "metadata": {},
   "outputs": [
    {
     "data": {
      "text/plain": [
       "(214,)"
      ]
     },
     "execution_count": 65,
     "metadata": {},
     "output_type": "execute_result"
    }
   ],
   "source": [
    "pre = []\n",
    "for i in range(len(global_temp)+100):\n",
    "    temp = predict_global_0hat(a_hat, b_hat, global_temp, i+1)\n",
    "    pre.append(temp)\n",
    "\n",
    "pre = np.array(pre)\n",
    "pre.shape"
   ]
  },
  {
   "cell_type": "code",
   "execution_count": 66,
   "metadata": {},
   "outputs": [
    {
     "data": {
      "image/png": "[encoded data removed]",
      "text/plain": [
       "<Figure size 1152x576 with 1 Axes>"
      ]
     },
     "metadata": {
      "needs_background": "light"
     },
     "output_type": "display_data"
    }
   ],
   "source": [
    "import matplotlib.pyplot as plt\n",
    "plt.figure(figsize=(16, 8))\n",
    "plt.plot(np.arange(len(global_temp)), global_temp, color='b')\n",
    "plt.plot(np.arange(len(pre)), pre, color='g')\n",
    "plt.show()"
   ]
  },
  {
   "cell_type": "code",
   "execution_count": 67,
   "metadata": {},
   "outputs": [
    {
     "data": {
      "text/plain": [
       "array([ 1.72951953,  1.64719279,  1.81919773,  2.0233526 ,  2.02618953,\n",
       "        2.07025144,  2.16123819,  2.25438238,  2.3250673 ,  2.39960219,\n",
       "        2.48211   ,  2.56593162,  2.64803849,  2.73144711,  2.81697897,\n",
       "        2.90374133,  2.99132731,  3.08009294,  3.17017177,  3.26144991,\n",
       "        3.35387067,  3.44747655,  3.54228764,  3.63828983,  3.73547517,\n",
       "        3.83384871,  3.93341338,  4.03416745,  4.13610982,  4.23924108,\n",
       "        4.34356165,  4.44907133,  4.55576994,  4.66365758,  4.7727343 ,\n",
       "        4.88300006,  4.99445485,  5.10709869,  5.22093157,  5.33595349,\n",
       "        5.45216445,  5.56956446,  5.6881535 ,  5.80793159,  5.92889872,\n",
       "        6.0510549 ,  6.17440011,  6.29893437,  6.42465767,  6.55157001,\n",
       "        6.67967139,  6.80896182,  6.93944128,  7.07110979,  7.20396734,\n",
       "        7.33801394,  7.47324957,  7.60967425,  7.74728797,  7.88609073,\n",
       "        8.02608253,  8.16726338,  8.30963326,  8.45319219,  8.59794016,\n",
       "        8.74387718,  8.89100323,  9.03931833,  9.18882247,  9.33951565,\n",
       "        9.49139787,  9.64446913,  9.79872944,  9.95417879, 10.11081718,\n",
       "       10.26864461, 10.42766109, 10.58786661, 10.74926117, 10.91184477,\n",
       "       11.07561741, 11.24057909, 11.40672982, 11.57406959, 11.7425984 ,\n",
       "       11.91231625, 12.08322315, 12.25531908, 12.42860406, 12.60307808,\n",
       "       12.77874115, 12.95559325, 13.1336344 , 13.31286459, 13.49328382,\n",
       "       13.67489209, 13.8576894 , 14.04167576, 14.22685116, 14.4132156 ])"
      ]
     },
     "execution_count": 67,
     "metadata": {},
     "output_type": "execute_result"
    }
   ],
   "source": [
    "cancha = pd.read_csv('./data/残差预测.csv')['预测结果'].to_numpy()\n",
    "cancha"
   ]
  },
  {
   "cell_type": "code",
   "execution_count": 68,
   "metadata": {},
   "outputs": [
    {
     "data": {
      "text/plain": [
       "array([20.92653843, 20.91564095, 20.90474914, 20.89386301, 20.88298254,\n",
       "       20.87210774, 20.8612386 , 20.85037513, 20.83951731, 20.82866514,\n",
       "       20.81781863, 20.80697776, 20.79614254, 20.78531296, 20.77448902,\n",
       "       20.76367072, 20.75285805, 20.74205101, 20.7312496 , 20.72045382,\n",
       "       20.70966365, 20.69887911, 20.68810018, 20.67732687, 20.66655916,\n",
       "       20.65579706, 20.64504057, 20.63428968, 20.62354438, 20.61280469,\n",
       "       20.60207058, 20.59134206, 20.58061914, 20.56990179, 20.55919003,\n",
       "       20.54848384, 20.53778323, 20.52708819, 20.51639873, 20.50571482,\n",
       "       20.49503649, 20.48436371, 20.47369649, 20.46303482, 20.45237871,\n",
       "       20.44172815, 20.43108313, 20.42044366, 20.40980972, 20.39918133,\n",
       "       20.38855847, 20.37794114, 20.36732934, 20.35672306, 20.34612231,\n",
       "       20.33552708, 20.32493737, 20.31435317, 20.30377448, 20.2932013 ,\n",
       "       20.28263363, 20.27207146, 20.26151479, 20.25096362, 20.24041795,\n",
       "       20.22987776, 20.21934307, 20.20881386, 20.19829013, 20.18777188,\n",
       "       20.17725911, 20.16675182, 20.15624999, 20.14575364, 20.13526275,\n",
       "       20.12477732, 20.11429736, 20.10382285, 20.0933538 , 20.0828902 ,\n",
       "       20.07243204, 20.06197934, 20.05153207, 20.04109025, 20.03065386,\n",
       "       20.02022291, 20.0097974 , 19.99937731, 19.98896264, 19.9785534 ,\n",
       "       19.96814958, 19.95775118, 19.9473582 , 19.93697062, 19.92658846,\n",
       "       19.9162117 , 19.90584034, 19.89547439, 19.88511383, 19.87475867,\n",
       "       19.8644089 , 19.85406452, 19.84372553, 19.83339193, 19.8230637 ,\n",
       "       19.81274085, 19.80242338, 19.79211128, 19.78180455, 19.77150319,\n",
       "       19.76120719, 19.75091655, 19.74063127, 19.73035135, 21.44959631,\n",
       "       21.36726957, 21.53927452, 21.74342938, 21.74626632, 21.79032823,\n",
       "       21.88131497, 21.97445916, 22.04514408, 22.11967898, 22.20218679,\n",
       "       22.2860084 , 22.36811527, 22.45152389, 22.53705575, 22.62381812,\n",
       "       22.71140409, 22.80016973, 22.89024855, 22.98152669, 23.07394746,\n",
       "       23.16755333, 23.26236442, 23.35836662, 23.45555195, 23.5539255 ,\n",
       "       23.65349016, 23.75424424, 23.85618661, 23.95931787, 24.06363844,\n",
       "       24.16914811, 24.27584673, 24.38373437, 24.49281108, 24.60307684,\n",
       "       24.71453164, 24.82717547, 24.94100835, 25.05603027, 25.17224124,\n",
       "       25.28964124, 25.40823029, 25.52800838, 25.64897551, 25.77113168,\n",
       "       25.8944769 , 26.01901115, 26.14473445, 26.27164679, 26.39974818,\n",
       "       26.5290386 , 26.65951807, 26.79118658, 26.92404413, 27.05809072,\n",
       "       27.19332636, 27.32975103, 27.46736475, 27.60616751, 27.74615932,\n",
       "       27.88734016, 28.02971005, 28.17326898, 28.31801695, 28.46395396,\n",
       "       28.61108002, 28.75939511, 28.90889925, 29.05959243, 29.21147465,\n",
       "       29.36454592, 29.51880623, 29.67425558, 29.83089396, 29.98872139,\n",
       "       30.14773787, 30.30794339, 30.46933795, 30.63192155, 30.79569419,\n",
       "       30.96065587, 31.1268066 , 31.29414637, 31.46267518, 31.63239303,\n",
       "       31.80329993, 31.97539586, 32.14868084, 32.32315486, 32.49881793,\n",
       "       32.67567003, 32.85371118, 33.03294137, 33.2133606 , 33.39496887,\n",
       "       33.57776618, 33.76175254, 33.94692794, 34.13329238])"
      ]
     },
     "execution_count": 68,
     "metadata": {},
     "output_type": "execute_result"
    }
   ],
   "source": [
    "pre[114:] = pre[114] + cancha\n",
    "pre"
   ]
  },
  {
   "cell_type": "code",
   "execution_count": 69,
   "metadata": {},
   "outputs": [
    {
     "data": {
      "image/png": "[encoded data removed]",
      "text/plain": [
       "<Figure size 1152x576 with 1 Axes>"
      ]
     },
     "metadata": {
      "needs_background": "light"
     },
     "output_type": "display_data"
    }
   ],
   "source": [
    "plt.figure(figsize=(16, 8))\n",
    "plt.plot(np.arange(len(global_temp)), global_temp, color='b', label=\"real\")\n",
    "plt.plot(np.arange(len(pre)), pre, color='g', label=\"predicted\")\n",
    "plt.legend()\n",
    "plt.title('The global mean temperature time series of the GM-AMIRA model after the residuals have been corrected', fontsize=16)\n",
    "plt.savefig('The global mean temperature.png', transparent=None, facecolor='w')\n",
    "plt.show()"
   ]
  },
  {
   "cell_type": "code",
   "execution_count": 88,
   "metadata": {},
   "outputs": [
    {
     "data": {
      "text/plain": [
       "Int64Index([200], dtype='int64')"
      ]
     },
     "execution_count": 88,
     "metadata": {},
     "output_type": "execute_result"
    }
   ],
   "source": [
    "date = np.arange(1900, 2114, 1)\n",
    "date = pd.DataFrame(date)\n",
    "date.loc[date[0]==2100].index"
   ]
  },
  {
   "cell_type": "code",
   "execution_count": 89,
   "metadata": {},
   "outputs": [
    {
     "data": {
      "text/plain": [
       "31.803299934593404"
      ]
     },
     "execution_count": 89,
     "metadata": {},
     "output_type": "execute_result"
    }
   ],
   "source": [
    "pre[200]"
   ]
  },
  {
   "cell_type": "code",
   "execution_count": 70,
   "metadata": {},
   "outputs": [],
   "source": [
    "pd.DataFrame(pre).to_csv('./data/predict.csv', index=False)"
   ]
  },
  {
   "cell_type": "code",
   "execution_count": 71,
   "metadata": {},
   "outputs": [],
   "source": [
    "pd.DataFrame(epsilon).to_csv('./data/epsilon.csv')"
   ]
  },
  {
   "cell_type": "code",
   "execution_count": 72,
   "metadata": {},
   "outputs": [],
   "source": [
    "pd.DataFrame(np.array(epsilon_absolute)).to_csv('./data/epsilon_absolute.csv', index=False)"
   ]
  },
  {
   "cell_type": "code",
   "execution_count": 73,
   "metadata": {},
   "outputs": [
    {
     "data": {
      "text/plain": [
       "1.5744438147383713"
      ]
     },
     "execution_count": 73,
     "metadata": {},
     "output_type": "execute_result"
    }
   ],
   "source": [
    "mean_epsilon = np.array(epsilon_absolute).mean()\n",
    "mean_epsilon"
   ]
  },
  {
   "cell_type": "markdown",
   "metadata": {},
   "source": [
    "1.556%小于20%，说明残差拟合效果非常不错"
   ]
  },
  {
   "cell_type": "code",
   "execution_count": 74,
   "metadata": {},
   "outputs": [
    {
     "data": {
      "text/plain": [
       "0.011070351508234148"
      ]
     },
     "execution_count": 74,
     "metadata": {},
     "output_type": "execute_result"
    }
   ],
   "source": [
    "sita = []\n",
    "yita = []\n",
    "for i in range(len(global_temp)):\n",
    "    if i+1 < len(global_temp):\n",
    "        sita.append(global_temp[i+1] / global_temp[i])\n",
    "\n",
    "for i, sitak in enumerate(sita):\n",
    "    yita.append(np.absolute(1-(1-0.5*a_hat)/((1+0.5*a_hat)*sitak)))\n",
    "\n",
    "yita = np.array(yita)\n",
    "yita_mean = yita.mean()\n",
    "yita_mean"
   ]
  },
  {
   "cell_type": "markdown",
   "metadata": {},
   "source": [
    "为0.01，说明对原数据的拟合效果非常不错"
   ]
  }
 ],
 "metadata": {
  "kernelspec": {
   "display_name": "Python 3.9.12 ('base')",
   "language": "python",
   "name": "python3"
  },
  "language_info": {
   "codemirror_mode": {
    "name": "ipython",
    "version": 3
   },
   "file_extension": ".py",
   "mimetype": "text/x-python",
   "name": "python",
   "nbconvert_exporter": "python",
   "pygments_lexer": "ipython3",
   "version": "3.9.12"
  },
  "orig_nbformat": 4,
  "vscode": {
   "interpreter": {
    "hash": "49cb93f377a7abe7414b7b0f21fb3017538004a126cf690fb524202736b7fb92"
   }
  }
 },
 "nbformat": 4,
 "nbformat_minor": 2
}
